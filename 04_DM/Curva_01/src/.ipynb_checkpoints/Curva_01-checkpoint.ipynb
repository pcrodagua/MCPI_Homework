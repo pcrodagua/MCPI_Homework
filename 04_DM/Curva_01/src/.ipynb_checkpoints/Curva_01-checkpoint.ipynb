{
 "cells": [
  {
   "cell_type": "code",
   "execution_count": 1,
   "metadata": {},
   "outputs": [],
   "source": [
    "# Curva 01: Grado del Polinomio vs Error"
   ]
  },
  {
   "cell_type": "code",
   "execution_count": 2,
   "metadata": {},
   "outputs": [],
   "source": [
    "%matplotlib inline\n",
    "import sys\n",
    "import numpy as np\n",
    "import pandas as pd\n",
    "import seaborn as sns\n",
    "import matplotlib.pyplot as plt\n",
    "#from terminaltables import AsciiTable\n",
    "from mpl_toolkits.mplot3d import Axes3D\n",
    "from numpy.polynomial.polynomial import polyfit\n",
    "sns.set(color_codes=True)\n",
    "sns.set_style(\"whitegrid\")"
   ]
  },
  {
   "cell_type": "code",
   "execution_count": 3,
   "metadata": {},
   "outputs": [],
   "source": [
    "np.set_printoptions(precision=300)\n",
    "X = np.genfromtxt(\"x.csv\", delimiter=\",\")\n",
    "Y = np.genfromtxt(\"y.csv\", delimiter=\",\")\n",
    "X_T = np.transpose(X)\n",
    "\n",
    "# n, m calculation\n",
    "n, m = X_T.shape\n",
    "if m <= n:\n",
    "    print(\"RECOMENDATION: Delete some features, or use regularization.\")\n",
    "\n",
    "theta = np.dot(np.dot(np.linalg.pinv(np.dot(X_T, X)), X_T), Y)"
   ]
  },
  {
   "cell_type": "code",
   "execution_count": null,
   "metadata": {},
   "outputs": [],
   "source": [
    "# Model Definition\n"
   ]
  }
 ],
 "metadata": {
  "kernelspec": {
   "display_name": "Python 3",
   "language": "python",
   "name": "python3"
  },
  "language_info": {
   "codemirror_mode": {
    "name": "ipython",
    "version": 3
   },
   "file_extension": ".py",
   "mimetype": "text/x-python",
   "name": "python",
   "nbconvert_exporter": "python",
   "pygments_lexer": "ipython3",
   "version": "3.6.8"
  }
 },
 "nbformat": 4,
 "nbformat_minor": 2
}
