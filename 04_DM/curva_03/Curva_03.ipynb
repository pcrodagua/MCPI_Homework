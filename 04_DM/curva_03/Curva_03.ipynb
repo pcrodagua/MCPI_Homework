{
 "cells": [
  {
   "cell_type": "code",
   "execution_count": 1,
   "metadata": {},
   "outputs": [],
   "source": [
    "import numpy as np\n",
    "import pandas as pd\n",
    "\n",
    "from sklearn.model_selection import train_test_split\n",
    "from sklearn.metrics import mean_squared_error\n",
    "from sklearn import linear_model\n",
    "import matplotlib.pyplot as plt\n",
    "from sklearn import datasets\n",
    "import scipy.optimize as opt\n",
    "from math import sqrt\n",
    "\n",
    "\n",
    "%matplotlib inline"
   ]
  },
  {
   "cell_type": "markdown",
   "metadata": {},
   "source": [
    " By doing this, we will be able to study the effect of each feature on the dependent variable "
   ]
  },
  {
   "cell_type": "code",
   "execution_count": 2,
   "metadata": {},
   "outputs": [
    {
     "data": {
      "text/html": [
       "<div>\n",
       "<style scoped>\n",
       "    .dataframe tbody tr th:only-of-type {\n",
       "        vertical-align: middle;\n",
       "    }\n",
       "\n",
       "    .dataframe tbody tr th {\n",
       "        vertical-align: top;\n",
       "    }\n",
       "\n",
       "    .dataframe thead th {\n",
       "        text-align: right;\n",
       "    }\n",
       "</style>\n",
       "<table border=\"1\" class=\"dataframe\">\n",
       "  <thead>\n",
       "    <tr style=\"text-align: right;\">\n",
       "      <th></th>\n",
       "      <th>RIDAGEYR</th>\n",
       "      <th>RIDRETH1</th>\n",
       "      <th>RIDRETH3</th>\n",
       "      <th>RIDEXMON</th>\n",
       "      <th>RIDEXAGM</th>\n",
       "      <th>DMQMILIZ</th>\n",
       "      <th>DMDBORN4</th>\n",
       "      <th>DMDCITZN</th>\n",
       "      <th>DMDEDUC3</th>\n",
       "      <th>DMDEDUC2</th>\n",
       "      <th>...</th>\n",
       "      <th>DMDHRMAR</th>\n",
       "      <th>DMDHSEDU</th>\n",
       "      <th>WTINT2YR</th>\n",
       "      <th>WTMEC2YR</th>\n",
       "      <th>SDMVPSU</th>\n",
       "      <th>SDMVSTRA</th>\n",
       "      <th>INDHHIN2</th>\n",
       "      <th>INDFMIN2</th>\n",
       "      <th>INDFMPIR</th>\n",
       "      <th>OUTPUT</th>\n",
       "    </tr>\n",
       "  </thead>\n",
       "  <tbody>\n",
       "    <tr>\n",
       "      <th>0</th>\n",
       "      <td>1.103065</td>\n",
       "      <td>-0.117923</td>\n",
       "      <td>-0.224917</td>\n",
       "      <td>-1.022062</td>\n",
       "      <td>1.255341</td>\n",
       "      <td>0.370975</td>\n",
       "      <td>-0.455735</td>\n",
       "      <td>-0.258301</td>\n",
       "      <td>0.733099</td>\n",
       "      <td>-0.370353</td>\n",
       "      <td>...</td>\n",
       "      <td>-0.270316</td>\n",
       "      <td>-2.660909</td>\n",
       "      <td>-0.095293</td>\n",
       "      <td>-0.101203</td>\n",
       "      <td>-0.962825</td>\n",
       "      <td>-0.703204</td>\n",
       "      <td>-0.272598</td>\n",
       "      <td>-0.252338</td>\n",
       "      <td>-0.258429</td>\n",
       "      <td>1</td>\n",
       "    </tr>\n",
       "    <tr>\n",
       "      <th>1</th>\n",
       "      <td>1.817111</td>\n",
       "      <td>-0.117923</td>\n",
       "      <td>-0.224917</td>\n",
       "      <td>0.978139</td>\n",
       "      <td>1.301970</td>\n",
       "      <td>-4.635980</td>\n",
       "      <td>-0.455735</td>\n",
       "      <td>-0.258301</td>\n",
       "      <td>0.710193</td>\n",
       "      <td>0.854105</td>\n",
       "      <td>...</td>\n",
       "      <td>-0.270316</td>\n",
       "      <td>-0.661851</td>\n",
       "      <td>1.368985</td>\n",
       "      <td>1.286272</td>\n",
       "      <td>-0.962825</td>\n",
       "      <td>-0.464729</td>\n",
       "      <td>-0.056912</td>\n",
       "      <td>-0.029714</td>\n",
       "      <td>1.506775</td>\n",
       "      <td>1</td>\n",
       "    </tr>\n",
       "    <tr>\n",
       "      <th>2</th>\n",
       "      <td>1.539426</td>\n",
       "      <td>-0.117923</td>\n",
       "      <td>-0.224917</td>\n",
       "      <td>0.978139</td>\n",
       "      <td>-0.275011</td>\n",
       "      <td>0.370975</td>\n",
       "      <td>-0.455735</td>\n",
       "      <td>-0.258301</td>\n",
       "      <td>-0.093382</td>\n",
       "      <td>-1.594812</td>\n",
       "      <td>...</td>\n",
       "      <td>-0.123348</td>\n",
       "      <td>-0.001640</td>\n",
       "      <td>0.355376</td>\n",
       "      <td>0.336546</td>\n",
       "      <td>1.038318</td>\n",
       "      <td>0.250693</td>\n",
       "      <td>-0.560180</td>\n",
       "      <td>-0.549171</td>\n",
       "      <td>-0.633454</td>\n",
       "      <td>0</td>\n",
       "    </tr>\n",
       "    <tr>\n",
       "      <th>3</th>\n",
       "      <td>-0.007673</td>\n",
       "      <td>-0.117923</td>\n",
       "      <td>-0.224917</td>\n",
       "      <td>0.978139</td>\n",
       "      <td>-0.220630</td>\n",
       "      <td>0.370975</td>\n",
       "      <td>-0.455735</td>\n",
       "      <td>-0.258301</td>\n",
       "      <td>-0.051323</td>\n",
       "      <td>2.078564</td>\n",
       "      <td>...</td>\n",
       "      <td>0.317557</td>\n",
       "      <td>0.097166</td>\n",
       "      <td>2.779416</td>\n",
       "      <td>2.741962</td>\n",
       "      <td>1.038318</td>\n",
       "      <td>0.489168</td>\n",
       "      <td>0.302565</td>\n",
       "      <td>0.341327</td>\n",
       "      <td>1.823606</td>\n",
       "      <td>0</td>\n",
       "    </tr>\n",
       "    <tr>\n",
       "      <th>4</th>\n",
       "      <td>1.975787</td>\n",
       "      <td>-0.117923</td>\n",
       "      <td>-0.224917</td>\n",
       "      <td>-1.022062</td>\n",
       "      <td>1.568519</td>\n",
       "      <td>0.370975</td>\n",
       "      <td>-0.455735</td>\n",
       "      <td>-0.258301</td>\n",
       "      <td>1.055281</td>\n",
       "      <td>2.078564</td>\n",
       "      <td>...</td>\n",
       "      <td>-0.270316</td>\n",
       "      <td>1.337206</td>\n",
       "      <td>0.922431</td>\n",
       "      <td>0.819710</td>\n",
       "      <td>-0.962825</td>\n",
       "      <td>1.204591</td>\n",
       "      <td>0.230670</td>\n",
       "      <td>0.267119</td>\n",
       "      <td>1.823606</td>\n",
       "      <td>1</td>\n",
       "    </tr>\n",
       "  </tbody>\n",
       "</table>\n",
       "<p>5 rows × 31 columns</p>\n",
       "</div>"
      ],
      "text/plain": [
       "   RIDAGEYR  RIDRETH1  RIDRETH3  RIDEXMON  RIDEXAGM  DMQMILIZ  DMDBORN4  \\\n",
       "0  1.103065 -0.117923 -0.224917 -1.022062  1.255341  0.370975 -0.455735   \n",
       "1  1.817111 -0.117923 -0.224917  0.978139  1.301970 -4.635980 -0.455735   \n",
       "2  1.539426 -0.117923 -0.224917  0.978139 -0.275011  0.370975 -0.455735   \n",
       "3 -0.007673 -0.117923 -0.224917  0.978139 -0.220630  0.370975 -0.455735   \n",
       "4  1.975787 -0.117923 -0.224917 -1.022062  1.568519  0.370975 -0.455735   \n",
       "\n",
       "   DMDCITZN  DMDEDUC3  DMDEDUC2   ...    DMDHRMAR  DMDHSEDU  WTINT2YR  \\\n",
       "0 -0.258301  0.733099 -0.370353   ...   -0.270316 -2.660909 -0.095293   \n",
       "1 -0.258301  0.710193  0.854105   ...   -0.270316 -0.661851  1.368985   \n",
       "2 -0.258301 -0.093382 -1.594812   ...   -0.123348 -0.001640  0.355376   \n",
       "3 -0.258301 -0.051323  2.078564   ...    0.317557  0.097166  2.779416   \n",
       "4 -0.258301  1.055281  2.078564   ...   -0.270316  1.337206  0.922431   \n",
       "\n",
       "   WTMEC2YR   SDMVPSU  SDMVSTRA  INDHHIN2  INDFMIN2  INDFMPIR  OUTPUT  \n",
       "0 -0.101203 -0.962825 -0.703204 -0.272598 -0.252338 -0.258429       1  \n",
       "1  1.286272 -0.962825 -0.464729 -0.056912 -0.029714  1.506775       1  \n",
       "2  0.336546  1.038318  0.250693 -0.560180 -0.549171 -0.633454       0  \n",
       "3  2.741962  1.038318  0.489168  0.302565  0.341327  1.823606       0  \n",
       "4  0.819710 -0.962825  1.204591  0.230670  0.267119  1.823606       1  \n",
       "\n",
       "[5 rows x 31 columns]"
      ]
     },
     "execution_count": 2,
     "metadata": {},
     "output_type": "execute_result"
    }
   ],
   "source": [
    "data_x = pd.read_csv('demo_caries_x.csv', index_col=False)\n",
    "data_y = pd.read_csv('demo_caries_y.csv', index_col=False)\n",
    "data = pd.concat([data_x, data_y], axis = 1)\n",
    "data = data.drop(columns=\"ID\")\n",
    "data.head()"
   ]
  },
  {
   "cell_type": "code",
   "execution_count": 3,
   "metadata": {},
   "outputs": [
    {
     "data": {
      "text/html": [
       "<div>\n",
       "<style scoped>\n",
       "    .dataframe tbody tr th:only-of-type {\n",
       "        vertical-align: middle;\n",
       "    }\n",
       "\n",
       "    .dataframe tbody tr th {\n",
       "        vertical-align: top;\n",
       "    }\n",
       "\n",
       "    .dataframe thead th {\n",
       "        text-align: right;\n",
       "    }\n",
       "</style>\n",
       "<table border=\"1\" class=\"dataframe\">\n",
       "  <thead>\n",
       "    <tr style=\"text-align: right;\">\n",
       "      <th></th>\n",
       "      <th>RIDAGEYR</th>\n",
       "      <th>RIDRETH1</th>\n",
       "      <th>RIDRETH3</th>\n",
       "      <th>RIDEXMON</th>\n",
       "      <th>RIDEXAGM</th>\n",
       "      <th>DMQMILIZ</th>\n",
       "      <th>DMDBORN4</th>\n",
       "      <th>DMDCITZN</th>\n",
       "      <th>DMDEDUC3</th>\n",
       "      <th>DMDEDUC2</th>\n",
       "      <th>...</th>\n",
       "      <th>DMDHRMAR</th>\n",
       "      <th>DMDHSEDU</th>\n",
       "      <th>WTINT2YR</th>\n",
       "      <th>WTMEC2YR</th>\n",
       "      <th>SDMVPSU</th>\n",
       "      <th>SDMVSTRA</th>\n",
       "      <th>INDHHIN2</th>\n",
       "      <th>INDFMIN2</th>\n",
       "      <th>INDFMPIR</th>\n",
       "      <th>OUTPUT</th>\n",
       "    </tr>\n",
       "  </thead>\n",
       "  <tbody>\n",
       "    <tr>\n",
       "      <th>3547</th>\n",
       "      <td>-0.920064</td>\n",
       "      <td>-1.669271</td>\n",
       "      <td>-1.428991</td>\n",
       "      <td>-1.022062</td>\n",
       "      <td>-1.131274</td>\n",
       "      <td>0.096357</td>\n",
       "      <td>-0.455735</td>\n",
       "      <td>-0.258301</td>\n",
       "      <td>-0.128883</td>\n",
       "      <td>0.028664</td>\n",
       "      <td>...</td>\n",
       "      <td>0.464526</td>\n",
       "      <td>0.104000</td>\n",
       "      <td>-0.124253</td>\n",
       "      <td>-0.115462</td>\n",
       "      <td>-0.962825</td>\n",
       "      <td>-1.180152</td>\n",
       "      <td>-0.200703</td>\n",
       "      <td>-0.178130</td>\n",
       "      <td>0.090732</td>\n",
       "      <td>0</td>\n",
       "    </tr>\n",
       "    <tr>\n",
       "      <th>3548</th>\n",
       "      <td>0.389019</td>\n",
       "      <td>0.657751</td>\n",
       "      <td>0.377121</td>\n",
       "      <td>-1.022062</td>\n",
       "      <td>-0.274666</td>\n",
       "      <td>0.370975</td>\n",
       "      <td>-0.455735</td>\n",
       "      <td>-0.258301</td>\n",
       "      <td>-0.134488</td>\n",
       "      <td>0.854105</td>\n",
       "      <td>...</td>\n",
       "      <td>0.317557</td>\n",
       "      <td>0.116472</td>\n",
       "      <td>-0.216017</td>\n",
       "      <td>-0.175408</td>\n",
       "      <td>-0.962825</td>\n",
       "      <td>0.250693</td>\n",
       "      <td>-0.200703</td>\n",
       "      <td>-0.178130</td>\n",
       "      <td>0.465757</td>\n",
       "      <td>0</td>\n",
       "    </tr>\n",
       "    <tr>\n",
       "      <th>3549</th>\n",
       "      <td>1.380749</td>\n",
       "      <td>-1.669271</td>\n",
       "      <td>-1.428991</td>\n",
       "      <td>0.978139</td>\n",
       "      <td>1.273062</td>\n",
       "      <td>0.370975</td>\n",
       "      <td>-0.455735</td>\n",
       "      <td>-0.258301</td>\n",
       "      <td>0.779782</td>\n",
       "      <td>-1.594812</td>\n",
       "      <td>...</td>\n",
       "      <td>-0.270316</td>\n",
       "      <td>-0.661851</td>\n",
       "      <td>-0.642938</td>\n",
       "      <td>-0.664809</td>\n",
       "      <td>-0.962825</td>\n",
       "      <td>-0.464729</td>\n",
       "      <td>-0.056912</td>\n",
       "      <td>-0.029714</td>\n",
       "      <td>0.873112</td>\n",
       "      <td>1</td>\n",
       "    </tr>\n",
       "    <tr>\n",
       "      <th>3550</th>\n",
       "      <td>0.547696</td>\n",
       "      <td>-1.669271</td>\n",
       "      <td>-1.428991</td>\n",
       "      <td>-1.022062</td>\n",
       "      <td>-0.413676</td>\n",
       "      <td>0.370975</td>\n",
       "      <td>2.193642</td>\n",
       "      <td>2.488659</td>\n",
       "      <td>-0.299916</td>\n",
       "      <td>-2.819271</td>\n",
       "      <td>...</td>\n",
       "      <td>0.023621</td>\n",
       "      <td>0.087866</td>\n",
       "      <td>0.847328</td>\n",
       "      <td>0.946374</td>\n",
       "      <td>1.038318</td>\n",
       "      <td>0.966116</td>\n",
       "      <td>-0.128807</td>\n",
       "      <td>-0.103922</td>\n",
       "      <td>1.054158</td>\n",
       "      <td>0</td>\n",
       "    </tr>\n",
       "    <tr>\n",
       "      <th>3551</th>\n",
       "      <td>-0.959733</td>\n",
       "      <td>-1.669271</td>\n",
       "      <td>-1.428991</td>\n",
       "      <td>0.978139</td>\n",
       "      <td>-1.451112</td>\n",
       "      <td>0.127016</td>\n",
       "      <td>-0.455735</td>\n",
       "      <td>-0.258301</td>\n",
       "      <td>-0.149123</td>\n",
       "      <td>0.061554</td>\n",
       "      <td>...</td>\n",
       "      <td>-0.270316</td>\n",
       "      <td>-0.661851</td>\n",
       "      <td>-0.462428</td>\n",
       "      <td>-0.438712</td>\n",
       "      <td>-0.962825</td>\n",
       "      <td>-0.941678</td>\n",
       "      <td>-0.200703</td>\n",
       "      <td>-0.178130</td>\n",
       "      <td>-0.148508</td>\n",
       "      <td>0</td>\n",
       "    </tr>\n",
       "  </tbody>\n",
       "</table>\n",
       "<p>5 rows × 31 columns</p>\n",
       "</div>"
      ],
      "text/plain": [
       "      RIDAGEYR  RIDRETH1  RIDRETH3  RIDEXMON  RIDEXAGM  DMQMILIZ  DMDBORN4  \\\n",
       "3547 -0.920064 -1.669271 -1.428991 -1.022062 -1.131274  0.096357 -0.455735   \n",
       "3548  0.389019  0.657751  0.377121 -1.022062 -0.274666  0.370975 -0.455735   \n",
       "3549  1.380749 -1.669271 -1.428991  0.978139  1.273062  0.370975 -0.455735   \n",
       "3550  0.547696 -1.669271 -1.428991 -1.022062 -0.413676  0.370975  2.193642   \n",
       "3551 -0.959733 -1.669271 -1.428991  0.978139 -1.451112  0.127016 -0.455735   \n",
       "\n",
       "      DMDCITZN  DMDEDUC3  DMDEDUC2   ...    DMDHRMAR  DMDHSEDU  WTINT2YR  \\\n",
       "3547 -0.258301 -0.128883  0.028664   ...    0.464526  0.104000 -0.124253   \n",
       "3548 -0.258301 -0.134488  0.854105   ...    0.317557  0.116472 -0.216017   \n",
       "3549 -0.258301  0.779782 -1.594812   ...   -0.270316 -0.661851 -0.642938   \n",
       "3550  2.488659 -0.299916 -2.819271   ...    0.023621  0.087866  0.847328   \n",
       "3551 -0.258301 -0.149123  0.061554   ...   -0.270316 -0.661851 -0.462428   \n",
       "\n",
       "      WTMEC2YR   SDMVPSU  SDMVSTRA  INDHHIN2  INDFMIN2  INDFMPIR  OUTPUT  \n",
       "3547 -0.115462 -0.962825 -1.180152 -0.200703 -0.178130  0.090732       0  \n",
       "3548 -0.175408 -0.962825  0.250693 -0.200703 -0.178130  0.465757       0  \n",
       "3549 -0.664809 -0.962825 -0.464729 -0.056912 -0.029714  0.873112       1  \n",
       "3550  0.946374  1.038318  0.966116 -0.128807 -0.103922  1.054158       0  \n",
       "3551 -0.438712 -0.962825 -0.941678 -0.200703 -0.178130 -0.148508       0  \n",
       "\n",
       "[5 rows x 31 columns]"
      ]
     },
     "execution_count": 3,
     "metadata": {},
     "output_type": "execute_result"
    }
   ],
   "source": [
    "data.tail()"
   ]
  },
  {
   "cell_type": "code",
   "execution_count": 4,
   "metadata": {},
   "outputs": [],
   "source": [
    "normalize = lambda x: (x-x.mean())/x.std()"
   ]
  },
  {
   "cell_type": "code",
   "execution_count": 5,
   "metadata": {},
   "outputs": [],
   "source": [
    "train, test = train_test_split(data, test_size=0.3)\n",
    "\n",
    "nx_train = train.iloc[:,0:-1].values\n",
    "ny_train = train.iloc[:,-1].values\n",
    "# ---- \n",
    "nx_test = test.iloc[:,:-1].values\n",
    "ny_test = test.iloc[:,-1].values\n",
    "\n",
    "ny_train = ny_train.reshape(-1,1)\n",
    "ny_test = ny_test.reshape(-1,1)\n",
    "\n",
    "nx_train = np.append(np.ones(shape=(nx_train.shape[0],1)),nx_train,axis = 1)\n",
    "nx_test = np.append(np.ones(shape=(nx_test.shape[0],1)),nx_test,axis = 1)\n",
    "\n",
    "m_train, n_train = nx_train.shape\n",
    "m_test, n_test = nx_test.shape"
   ]
  },
  {
   "cell_type": "markdown",
   "metadata": {},
   "source": [
    "## Data Visualization"
   ]
  },
  {
   "cell_type": "code",
   "execution_count": 6,
   "metadata": {},
   "outputs": [],
   "source": [
    "#infected = data.iloc[ny_train == 1]\n",
    "#not_infected = data.iloc[ny_train == 0]\n",
    "\n",
    "# plots\n",
    "#plt.scatter(infected.iloc[:, 0], infected.iloc[:, 1], s=10, label='Infected')\n",
    "#plt.scatter(not_infected.iloc[:, 0], not_infected.iloc[:, 1], s=10, label='Not infected')\n",
    "#plt.legend()\n",
    "#plt.show()"
   ]
  },
  {
   "cell_type": "markdown",
   "metadata": {},
   "source": [
    "## Sigmoid"
   ]
  },
  {
   "cell_type": "code",
   "execution_count": 7,
   "metadata": {},
   "outputs": [],
   "source": [
    "sigmoid = lambda z: 1 / (1 + np.exp(-z))"
   ]
  },
  {
   "cell_type": "markdown",
   "metadata": {},
   "source": [
    "## Hyphotesis"
   ]
  },
  {
   "cell_type": "code",
   "execution_count": 8,
   "metadata": {},
   "outputs": [],
   "source": [
    "def calculate_hyphotesis(x, theta):\n",
    "    return sigmoid(np.dot(x, theta))"
   ]
  },
  {
   "cell_type": "markdown",
   "metadata": {},
   "source": [
    "## Cost Function"
   ]
  },
  {
   "cell_type": "code",
   "execution_count": 9,
   "metadata": {},
   "outputs": [],
   "source": [
    "def cost_function(theta, x, y):\n",
    "    m, n = x.shape\n",
    "    theta = theta.reshape(n,1)\n",
    "    infunc = -y*(np.log(calculate_hyphotesis(x,theta))) - (1-y)*(np.log(1 - calculate_hyphotesis(x,theta)))\n",
    "    return np.sum(infunc)/m"
   ]
  },
  {
   "cell_type": "code",
   "execution_count": 10,
   "metadata": {},
   "outputs": [],
   "source": [
    "def cost_function2(hyp, x, y):\n",
    "    infunc = -y*(np.log(hyp)) - (1-y)*(np.log(1 - hyp))\n",
    "    return np.sum(infunc)/x.shape[0]"
   ]
  },
  {
   "cell_type": "markdown",
   "metadata": {},
   "source": [
    "## Gradient Descent"
   ]
  },
  {
   "cell_type": "code",
   "execution_count": 11,
   "metadata": {},
   "outputs": [],
   "source": [
    "def compute_gradient(theta,x,y):\n",
    "    m, n = x.shape\n",
    "    theta = theta.reshape(n,1)\n",
    "    gradient =  np.dot(x.transpose(), calculate_hyphotesis(x,theta)-y)/m\n",
    "    return gradient.flatten()"
   ]
  },
  {
   "cell_type": "code",
   "execution_count": 12,
   "metadata": {},
   "outputs": [],
   "source": [
    "def calculate_theta(x, y, theta_):\n",
    "    theta = opt.minimize(fun=cost_function, x0=theta_, args=(x, y), method='TNC', jac=compute_gradient)\n",
    "    theta = theta.x\n",
    "    return theta"
   ]
  },
  {
   "cell_type": "markdown",
   "metadata": {},
   "source": [
    "## Predictions on Probabilities"
   ]
  },
  {
   "cell_type": "code",
   "execution_count": 13,
   "metadata": {},
   "outputs": [],
   "source": [
    "def predict_probs(x, theta):\n",
    "    return calculate_hyphotesis(x, theta)\n",
    "\n",
    "def predict(x, theta, threshold=0.5):\n",
    "    return 1*(predict_probs(x, theta) >= threshold)"
   ]
  },
  {
   "cell_type": "code",
   "execution_count": 14,
   "metadata": {},
   "outputs": [],
   "source": [
    "theta = calculate_theta(nx_train, ny_train, np.zeros(n_test))\n",
    "y_hat = predict(nx_train, theta)"
   ]
  },
  {
   "cell_type": "markdown",
   "metadata": {},
   "source": [
    "## Curva 01: Bias & Variance"
   ]
  },
  {
   "cell_type": "code",
   "execution_count": 23,
   "metadata": {},
   "outputs": [
    {
     "name": "stderr",
     "output_type": "stream",
     "text": [
      "/home/ospcx/anaconda3/envs/pyml/lib/python3.5/site-packages/ipykernel/__main__.py:4: RuntimeWarning: divide by zero encountered in log\n",
      "/home/ospcx/anaconda3/envs/pyml/lib/python3.5/site-packages/ipykernel/__main__.py:4: RuntimeWarning: invalid value encountered in multiply\n"
     ]
    }
   ],
   "source": [
    "train_error = np.zeros(n_test)\n",
    "test_error = np.zeros(n_test)\n",
    "\n",
    "_theta = np.zeros(n_test)\n",
    "\n",
    "for i in range(0, n_test):\n",
    "    train_ = nx_train[:,0:i]\n",
    "    test_ = nx_test[:,0:i]\n",
    "    theta_ = _theta[0:i]\n",
    "    \n",
    "    theta = calculate_theta(x=train_, y=ny_train, theta_=theta_)\n",
    "    \n",
    "    hyph_train = predict(train_, theta)\n",
    "    hyph_test = predict(test_, theta)\n",
    "    \n",
    "    train_error[i] = cost_function(theta, train_, ny_train)\n",
    "    test_error[i]  = cost_function(theta, test_, ny_test)"
   ]
  },
  {
   "cell_type": "code",
   "execution_count": 25,
   "metadata": {},
   "outputs": [
    {
     "data": {
      "image/png": "[encoded data removed]",
      "text/plain": [
       "<Figure size 432x288 with 1 Axes>"
      ]
     },
     "metadata": {
      "needs_background": "light"
     },
     "output_type": "display_data"
    }
   ],
   "source": [
    "plt.plot(np.arange(n_test-1),train_error[1:], label = 'train error', color='red')\n",
    "plt.plot(np.arange(n_test-1),test_error[1:], label = 'cross validation error', color= 'green')\n",
    "plt.title('Training Set')\n",
    "plt.xlabel('Polynomial Complexity (x)')\n",
    "plt.ylabel('MSE (y)')\n",
    "plt.grid()\n",
    "plt.legend()\n",
    "plt.show()"
   ]
  },
  {
   "cell_type": "code",
   "execution_count": 28,
   "metadata": {},
   "outputs": [],
   "source": [
    "# Curva 02\n",
    "train_error = np.zeros(m_test)\n",
    "test_error = np.zeros(m_test)\n",
    "\n",
    "theta = calculate_theta(x=nx_train, y=ny_train, theta_=np.zeros(n_test))\n",
    "\n",
    "for i in range(1, m_test):\n",
    "    hyph_train = predict(nx_train[0:i,:], theta)\n",
    "    hyph_test = predict(nx_test[0:i,:], theta)\n",
    "    \n",
    "    train_error[i] = cost_function(theta, nx_train[0:i,:], ny_train[0:i,]) # mean_squared_error(hyph_train, ny_train[0:i,])\n",
    "    test_error[i] =  cost_function(theta, nx_test[0:i,:], ny_test[0:i,]) # mean_squared_error(hyph_test, ny_test[0:i,])"
   ]
  },
  {
   "cell_type": "code",
   "execution_count": 29,
   "metadata": {},
   "outputs": [
    {
     "data": {
      "image/png": "[encoded data removed]",
      "text/plain": [
       "<Figure size 432x288 with 1 Axes>"
      ]
     },
     "metadata": {
      "needs_background": "light"
     },
     "output_type": "display_data"
    }
   ],
   "source": [
    "plt.plot(np.arange(m_test-1),train_error[1:], label = 'train error', color='red')\n",
    "plt.plot(np.arange(m_test-1),test_error[1:], label = 'cross validation error', color='green')\n",
    "plt.title('Training Set')\n",
    "plt.xlabel('Trainning Examples(x)')\n",
    "plt.ylabel('MSE (y)')\n",
    "plt.grid()\n",
    "plt.legend()\n",
    "plt.show()"
   ]
  },
  {
   "cell_type": "markdown",
   "metadata": {},
   "source": [
    "## Curva 03: Specificity & Sensitivity(Polinomial Complexity)"
   ]
  },
  {
   "cell_type": "code",
   "execution_count": 31,
   "metadata": {},
   "outputs": [],
   "source": [
    "# calculate vals\n",
    "def calculate_vals(y_hat, y):\n",
    "    # True Positive (TP)\n",
    "    TP = np.sum(np.logical_and(y_hat == 1, y == 1))\n",
    "\n",
    "    # True Negative (TN)\n",
    "    TN = np.sum(np.logical_and(y_hat == 0, y == 0))\n",
    "\n",
    "    # False Positive (FP)\n",
    "    FP = np.sum(np.logical_and(y_hat == 1, y == 0))\n",
    "\n",
    "    # False Negative (FN)\n",
    "    FN = np.sum(np.logical_and(y_hat == 0, y == 1))\n",
    "\n",
    "    return [TP, TN, FP, FN]\n",
    "\n",
    "# calculate_TPR\n",
    "def calculate_TPR(values):\n",
    "    return values[0]/(values[0] + values[3])\n",
    "\n",
    "\n",
    "# calculate_TNR\n",
    "def calculate_TNR(values):\n",
    "    return values[1]/(values[2] + values[1])\n",
    "\n",
    "\n",
    "# calculate_FPR\n",
    "def calculate_FPR(values):\n",
    "    return values[2]/(values[2] + values[3])"
   ]
  },
  {
   "cell_type": "code",
   "execution_count": 34,
   "metadata": {},
   "outputs": [
    {
     "name": "stderr",
     "output_type": "stream",
     "text": [
      "/home/ospcx/anaconda3/envs/pyml/lib/python3.5/site-packages/ipykernel/__main__.py:4: RuntimeWarning: divide by zero encountered in log\n",
      "/home/ospcx/anaconda3/envs/pyml/lib/python3.5/site-packages/ipykernel/__main__.py:4: RuntimeWarning: invalid value encountered in multiply\n"
     ]
    }
   ],
   "source": [
    "# ----- SENSITIVITY ----- \n",
    "TPR_train = np.zeros(n_test)\n",
    "TPR_test = np.zeros(n_test)\n",
    "# ----- SPECIFICITY -----\n",
    "TNR_train = np.zeros(n_test)\n",
    "TNR_test = np.zeros(n_test)\n",
    "\n",
    "_theta = np.zeros(n_test)\n",
    "\n",
    "\n",
    "for i in range(1, n_test):\n",
    "    train_ = nx_train[:,0:i]\n",
    "    test_ = nx_test[:,0:i]\n",
    "    theta_ = _theta[0:i]\n",
    "    \n",
    "    theta = calculate_theta(x=train_, y=ny_train, theta_=theta_)\n",
    "    \n",
    "    hyph_train = predict(train_, theta)\n",
    "    hyph_test = predict(test_, theta)\n",
    "    \n",
    "    hyph_train_vals = calculate_vals(hyph_train, ny_train)\n",
    "    hyph_test_vals = calculate_vals(hyph_test, ny_train)\n",
    "    \n",
    "    TPR_train[i] = calculate_TPR(hyph_train_vals)\n",
    "    TNR_train[i] = calculate_TNR(hyph_train_vals)\n",
    "    \n",
    "    TPR_test[i] = calculate_TPR(hyph_test_vals)\n",
    "    TNR_test[i] = calculate_TNR(hyph_test_vals)\n",
    "    \n"
   ]
  },
  {
   "cell_type": "code",
   "execution_count": 35,
   "metadata": {},
   "outputs": [
    {
     "data": {
      "image/png": "[encoded data removed]",
      "text/plain": [
       "<Figure size 432x288 with 1 Axes>"
      ]
     },
     "metadata": {
      "needs_background": "light"
     },
     "output_type": "display_data"
    }
   ],
   "source": [
    "plt.plot(np.arange(n_test-1),TPR_train[1:], label = 'Sensitivity')\n",
    "plt.plot(np.arange(n_test-1),TNR_train[1:], label = 'Specificity', color= 'green')\n",
    "plt.title('Training Set')\n",
    "plt.xlabel('Polynomial Complexity (x)')\n",
    "# plt.ylabel('MSE (y)')\n",
    "plt.grid()\n",
    "plt.legend()\n",
    "plt.show()\n"
   ]
  },
  {
   "cell_type": "code",
   "execution_count": 36,
   "metadata": {},
   "outputs": [
    {
     "data": {
      "image/png": "[encoded data removed]",
      "text/plain": [
       "<Figure size 432x288 with 1 Axes>"
      ]
     },
     "metadata": {
      "needs_background": "light"
     },
     "output_type": "display_data"
    }
   ],
   "source": [
    "plt.plot(np.arange(n_test-1),TPR_test[1:], label = 'Sensitivity')\n",
    "plt.plot(np.arange(n_test-1),TNR_test[1:], label = 'Specificity', color= 'green')\n",
    "plt.title('Test Set')\n",
    "plt.xlabel('Polynomial Complexity (x)')\n",
    "# plt.ylabel('MSE (y)')\n",
    "plt.grid()\n",
    "plt.legend()\n",
    "plt.show()"
   ]
  },
  {
   "cell_type": "markdown",
   "metadata": {},
   "source": [
    "## Confussion Matrix"
   ]
  },
  {
   "cell_type": "code",
   "execution_count": null,
   "metadata": {},
   "outputs": [],
   "source": []
  }
 ],
 "metadata": {
  "kernelspec": {
   "display_name": "Python [default]",
   "language": "python",
   "name": "python3"
  },
  "language_info": {
   "codemirror_mode": {
    "name": "ipython",
    "version": 3
   },
   "file_extension": ".py",
   "mimetype": "text/x-python",
   "name": "python",
   "nbconvert_exporter": "python",
   "pygments_lexer": "ipython3",
   "version": "3.5.6"
  }
 },
 "nbformat": 4,
 "nbformat_minor": 2
}
