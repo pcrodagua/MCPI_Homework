{
 "cells": [
  {
   "cell_type": "code",
   "execution_count": 1,
   "metadata": {},
   "outputs": [],
   "source": [
    "%matplotlib inline\n",
    "import sys\n",
    "import numpy as np\n",
    "import pandas as pd\n",
    "import seaborn as sns\n",
    "import matplotlib.pyplot as plt\n",
    "#from terminaltables import AsciiTable\n",
    "from mpl_toolkits.mplot3d import Axes3D\n",
    "from numpy.polynomial.polynomial import polyfit\n",
    "sns.set(color_codes=True)"
   ]
  },
  {
   "cell_type": "code",
   "execution_count": null,
   "metadata": {},
   "outputs": [],
   "source": []
  },
  {
   "cell_type": "code",
   "execution_count": 17,
   "metadata": {},
   "outputs": [
    {
     "data": {
      "image/png": "[encoded data removed]",
      "text/plain": [
       "<Figure size 432x288 with 1 Axes>"
      ]
     },
     "metadata": {
      "needs_background": "light"
     },
     "output_type": "display_data"
    }
   ],
   "source": [
    "# main\n",
    "def main():\n",
    "    np.set_printoptions(precision=300)\n",
    "    PATH='/home/ospcx/MyProyects/MCPI/MCPI_Homework/03_ML/02_LinearRegresionMult/problem_set/python/src'\n",
    "    X = np.genfromtxt(PATH + '/housing_x.csv', delimiter=',')\n",
    "    Y = np.genfromtxt(PATH + '/housing_y.csv', delimiter=',')\n",
    "    X_T = np.transpose(X)\n",
    "    # n, m calculation\n",
    "    n, m = X_T.shape\n",
    "    if m <= n:\n",
    "        print(\"RECOMENDATION: Delete some features, or use regularization.\")\n",
    "    \n",
    "    part_one = np.linalg.pinv(np.dot(X_T, X))\n",
    "    part_two = np.dot(part_one, X_T)\n",
    "    theta = np.dot(part_two, Y)\n",
    "    y = np.dot(X, theta)\n",
    "    X_DF = pd.DataFrame(X, columns=['housing_median_age', 'total_rooms', \n",
    "                                    'total_bedrooms', 'population',  'households',  \n",
    "                                    'median_income',   'median_house_value'])\n",
    "    #print(X_DF.corr() * (X_DF.std().values / X_DF.std().values[:, np.newaxis]))\n",
    "    plt.title('House Prediction')\n",
    "    plt.ylabel('Price')\n",
    "    plt.xlabel('House Holds')\n",
    "    #plt.plot(Y,y, '-')\n",
    "    plt.plot(X_DF.households, X_DF.median_house_value , '.')\n",
    "    plt.show()\n",
    "    \n",
    "        \n",
    "if __name__ == '__main__':\n",
    "    if sys.path[0] == '':\n",
    "        del sys.path[0]\n",
    "    main()"
   ]
  },
  {
   "cell_type": "code",
   "execution_count": null,
   "metadata": {},
   "outputs": [],
   "source": []
  }
 ],
 "metadata": {
  "kernelspec": {
   "display_name": "Python 3",
   "language": "python",
   "name": "python3"
  },
  "language_info": {
   "codemirror_mode": {
    "name": "ipython",
    "version": 3
   },
   "file_extension": ".py",
   "mimetype": "text/x-python",
   "name": "python",
   "nbconvert_exporter": "python",
   "pygments_lexer": "ipython3",
   "version": "3.6.8"
  }
 },
 "nbformat": 4,
 "nbformat_minor": 2
}
