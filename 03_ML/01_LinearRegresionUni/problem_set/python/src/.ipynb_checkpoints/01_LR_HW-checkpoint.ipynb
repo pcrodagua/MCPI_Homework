{
 "cells": [
  {
   "cell_type": "markdown",
   "metadata": {},
   "source": [
    "# Linear Regresion with One Variable (Lecture: 01)\n",
    "__Author__: Pablo César Rodríguez Aguayo\n",
    "\n",
    "__Subject__: Machine Learning\n",
    "\n",
    "__Date__: 02/02/2018"
   ]
  },
  {
   "cell_type": "code",
   "execution_count": 8,
   "metadata": {},
   "outputs": [
    {
     "name": "stdout",
     "output_type": "stream",
     "text": [
      "Using matplotlib backend: Qt5Agg\n"
     ]
    }
   ],
   "source": [
    "%matplotlib\n",
    "import sys\n",
    "import numpy as np\n",
    "import pandas as pd\n",
    "import seaborn as sns\n",
    "import matplotlib.pyplot as plt\n",
    "sns.set(color_codes=True)"
   ]
  },
  {
   "cell_type": "code",
   "execution_count": 2,
   "metadata": {},
   "outputs": [],
   "source": [
    "# MSE\n",
    "def calculate_MSE(theta_1, theta_0, data_):\n",
    "    totalError = 0\n",
    "    for i in range(0, len(data_)):\n",
    "        x = data_[i, 0]\n",
    "        y = data_[i, 1]\n",
    "        totalError += (y - (theta_0 + theta_1 * x)) ** 2\n",
    "    return totalError / float(len(data_))"
   ]
  },
  {
   "cell_type": "code",
   "execution_count": 3,
   "metadata": {},
   "outputs": [],
   "source": [
    "# Cost Function\n",
    "def update_J(theta_0, theta_1, data_, alpha):\n",
    "    theta_0g = 0\n",
    "    theta_1g = 0\n",
    "    M = float(len(data_))\n",
    "    for i in range(0, int(M)):\n",
    "        x = data_[i, 0]\n",
    "        y = data_[i, 1]\n",
    "        theta_0g += -(2/M) * (y - ((theta_1 * x) + theta_0))\n",
    "        theta_1g += -(2/M) * (y - ((theta_1 * x) + theta_0)) * x\n",
    "    new_theta_0 = theta_0 - (alpha * theta_0g)\n",
    "    new_theta_1 = theta_1 - (alpha * theta_1g)\n",
    "    return [new_theta_0, new_theta_1]"
   ]
  },
  {
   "cell_type": "code",
   "execution_count": 13,
   "metadata": {},
   "outputs": [],
   "source": [
    "# Gradiente Descent Algorithm\n",
    "def calculate_GDA(data_, strt_theta_1, strt_theta_0, alpha=0.001, iterations=100):\n",
    "    theta_0 = strt_theta_0\n",
    "    theta_1 = strt_theta_1\n",
    "    for i in range(iterations):\n",
    "        theta_0, theta_1 = update_J(theta_0, theta_1, np.array(data_), alpha)\n",
    "    return [theta_0, theta_1]"
   ]
  },
  {
   "cell_type": "code",
   "execution_count": 12,
   "metadata": {},
   "outputs": [
    {
     "name": "stdout",
     "output_type": "stream",
     "text": [
      "Running...\n",
      "After 1000 iterations b = nan, m = nan, error = nan\n",
      "<type 'list'>\n"
     ]
    },
    {
     "name": "stderr",
     "output_type": "stream",
     "text": [
      "/home/ospcx/anaconda3/envs/pyml/lib/python2.7/site-packages/ipykernel_launcher.py:10: RuntimeWarning: overflow encountered in double_scalars\n",
      "  # Remove the CWD from sys.path while we load stuff.\n",
      "/home/ospcx/anaconda3/envs/pyml/lib/python2.7/site-packages/ipykernel_launcher.py:12: RuntimeWarning: invalid value encountered in double_scalars\n",
      "  if sys.path[0] == '':\n"
     ]
    }
   ],
   "source": [
    "def main():\n",
    "    data = np.genfromtxt(\"data.csv\", delimiter=\",\")\n",
    "    alpha = 0.001 # learning rate\n",
    "    theta_0 = 0 # interception with y\n",
    "    theta_1 = 0 # slope of the function\n",
    "    iterations = 100\n",
    "    #print \"Starting gradient descent at b = {0}, m = {1}, error = {2}\".format(initial_b, initial_m, compute_error_for_line_given_points(initial_b, initial_m, points))\n",
    "    print (\"Running...\")\n",
    "    [theta_0, theta_1] = calculate_GDA(data, theta_0, theta_1, alpha, iterations)\n",
    "    print (\"After {0} iterations b = {1}, m = {2}, error = {3}\".format(iterations, theta_0.astype(str), theta_1.astype(str), calculate_MSE(theta_1, theta_0, data).astype(str)))\n",
    "    df = pd.DataFrame(data)\n",
    "    cols = df.columns.tolist()\n",
    "    print(type(cols))\n",
    "    plt.ylabel('Electricity')\n",
    "    plt.xlabel('Years')\n",
    "    plt.show()\n",
    "    \n",
    "if __name__ == '__main__':\n",
    "    if sys.path[0] == '':\n",
    "        del sys.path[0]\n",
    "    main()"
   ]
  },
  {
   "cell_type": "code",
   "execution_count": null,
   "metadata": {},
   "outputs": [],
   "source": []
  },
  {
   "cell_type": "code",
   "execution_count": null,
   "metadata": {},
   "outputs": [],
   "source": []
  }
 ],
 "metadata": {
  "kernelspec": {
   "display_name": "Python 2",
   "language": "python",
   "name": "python2"
  },
  "language_info": {
   "codemirror_mode": {
    "name": "ipython",
    "version": 2
   },
   "file_extension": ".py",
   "mimetype": "text/x-python",
   "name": "python",
   "nbconvert_exporter": "python",
   "pygments_lexer": "ipython2",
   "version": "2.7.15"
  }
 },
 "nbformat": 4,
 "nbformat_minor": 2
}
