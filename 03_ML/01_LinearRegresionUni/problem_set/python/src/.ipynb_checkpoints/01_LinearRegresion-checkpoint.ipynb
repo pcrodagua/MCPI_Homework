{
 "cells": [
  {
   "cell_type": "markdown",
   "metadata": {},
   "source": [
    "# Linear Regresion with One Variable (Lecture: 01)\n",
    "\n",
    "__Author__: Pablo César Rodríguez Aguayo\n",
    "\n",
    "__Subject__: Machine Learning\n",
    "\n",
    "__Date__: 06/02/2018"
   ]
  },
  {
   "cell_type": "code",
   "execution_count": 9,
   "metadata": {},
   "outputs": [],
   "source": [
    "%matplotlib inline\n",
    "import sys\n",
    "import numpy as np\n",
    "import pandas as pd\n",
    "import seaborn as sns\n",
    "import matplotlib.pyplot as plt\n",
    "from terminaltables import AsciiTable\n",
    "from numpy.polynomial.polynomial import polyfit\n",
    "sns.set(color_codes=True)"
   ]
  },
  {
   "cell_type": "code",
   "execution_count": 25,
   "metadata": {},
   "outputs": [],
   "source": [
    "# Mean Square Error Function\n",
    "def calculate_MSE(theta_0, theta_1, data_):\n",
    "    totalError = 0\n",
    "    for i in range(0, len(data_)):\n",
    "        x = data_[i, 0]\n",
    "        y = data_[i, 1]\n",
    "        totalError += ((theta_0 + theta_1 * x) - y) ** 2\n",
    "    return totalError/float(len(data_))"
   ]
  },
  {
   "cell_type": "code",
   "execution_count": 31,
   "metadata": {},
   "outputs": [],
   "source": [
    "# Correct: Simultaneous update J\n",
    "def correct_update(theta_0, theta_1, data_, alpha):\n",
    "    temp0 = 0\n",
    "    temp1 = 0\n",
    "    M = float(len(data_))\n",
    "    for i in range(0, int(M)):\n",
    "        x = data_[i, 0]\n",
    "        y = data_[i, 1]\n",
    "        temp0 += (theta_0 + (theta_1 * x) - y)\n",
    "        temp1 += (theta_0 + (theta_1 * x) - y) * x\n",
    "    new_theta_0 = theta_0 - (alpha * temp0)/M\n",
    "    new_theta_1 = theta_1 - (alpha * temp1)/M\n",
    "    return [new_theta_0, new_theta_1]\n",
    "    "
   ]
  },
  {
   "cell_type": "code",
   "execution_count": 32,
   "metadata": {},
   "outputs": [],
   "source": [
    "# Gradient Descent Algorithm\n",
    "def calculate_GDA(data_, strt_theta_0, strt_theta_1, alpha, iterations):\n",
    "    theta_0 = strt_theta_0\n",
    "    theta_1 = strt_theta_1\n",
    "    for i in range(iterations):\n",
    "        theta_0, theta_1 = correct_update(theta_0, theta_1, np.array(data_), alpha)\n",
    "    return [theta_0, theta_1]"
   ]
  },
  {
   "cell_type": "code",
   "execution_count": 41,
   "metadata": {},
   "outputs": [
    {
     "data": {
      "image/png": "[encoded data removed]",
      "text/plain": [
       "<Figure size 432x288 with 1 Axes>"
      ]
     },
     "metadata": {},
     "output_type": "display_data"
    },
    {
     "name": "stdout",
     "output_type": "stream",
     "text": [
      "+------------+---------------+\n",
      "| Parameter  | Value         |\n",
      "+------------+---------------+\n",
      "| Iterations | 1500          |\n",
      "| Theta 0    | -3.6302914394 |\n",
      "| Theta 1    | 1.16636235034 |\n",
      "| Error      | 8.96677651318 |\n",
      "+------------+---------------+\n",
      "Predicción para el año 2050: 2387.41252675\n"
     ]
    }
   ],
   "source": [
    "# main\n",
    "def main():\n",
    "    np.set_printoptions(precision=300)\n",
    "    data = np.genfromtxt(\"data.csv\", delimiter=\",\")\n",
    "    alpha = 0.01 # learning rate\n",
    "    theta_0 = 0 # interception with y\n",
    "    theta_1 = 0 # slope of the function\n",
    "    iterations = 1500\n",
    "    [theta_0, theta_1] = calculate_GDA(data, theta_0, theta_1, alpha, iterations)\n",
    "    error = calculate_MSE(theta_0, theta_1, data)\n",
    "    \n",
    "    table_data = [\n",
    "        ['Parameter', 'Value'],\n",
    "        ['Iterations', '{0}'.format(iterations)],\n",
    "        ['Theta 0', '{0}'.format(theta_0)],\n",
    "        ['Theta 1', '{0}'.format(theta_1)],\n",
    "        ['Error', '{0}'.format(error)]\n",
    "    ]\n",
    "    \n",
    "    table = AsciiTable(table_data)\n",
    "    \n",
    "    \n",
    "    df = pd.DataFrame(data, columns=['x', 'y'])\n",
    "    Y = theta_0 + theta_1 * df.x\n",
    "    \n",
    "    t0, t1 = polyfit(df.x, Y, 1)\n",
    "    plt.title('Fallas por Decada en el Estado de Zacatecas')\n",
    "    plt.ylabel('Fallas')\n",
    "    plt.ylabel('Anios')\n",
    "    plt.plot(df.x, df.y, '.', label='h(x)={0} + {1}x'.format(theta_0, theta_1))\n",
    "    plt.plot(df.x, t0 + t1 * df.x, '-')\n",
    "    plt.show()\n",
    "    print(table.table)\n",
    "    \n",
    "    print(\"Predicción para el año 2050: {0}\".format(theta_0 + theta_1 * 2050))\n",
    "    \n",
    "if __name__ == '__main__':\n",
    "    if sys.path[0] == '':\n",
    "        del sys.path[0]\n",
    "    main()"
   ]
  },
  {
   "cell_type": "code",
   "execution_count": null,
   "metadata": {},
   "outputs": [],
   "source": []
  }
 ],
 "metadata": {
  "kernelspec": {
   "display_name": "Python 2",
   "language": "python",
   "name": "python2"
  },
  "language_info": {
   "codemirror_mode": {
    "name": "ipython",
    "version": 2
   },
   "file_extension": ".py",
   "mimetype": "text/x-python",
   "name": "python",
   "nbconvert_exporter": "python",
   "pygments_lexer": "ipython2",
   "version": "2.7.15"
  }
 },
 "nbformat": 4,
 "nbformat_minor": 2
}
